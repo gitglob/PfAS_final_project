{
 "cells": [
  {
   "cell_type": "markdown",
   "id": "illegal-control",
   "metadata": {},
   "source": [
    "# Final Project"
   ]
  },
  {
   "cell_type": "code",
   "execution_count": 3,
   "id": "ordinary-designer",
   "metadata": {},
   "outputs": [
    {
     "name": "stderr",
     "output_type": "stream",
     "text": [
      "In C:\\Users\\User\\anaconda3\\envs\\Perc\\lib\\site-packages\\matplotlib\\mpl-data\\stylelib\\_classic_test.mplstyle: \n",
      "The text.latex.preview rcparam was deprecated in Matplotlib 3.3 and will be removed two minor releases later.\n",
      "In C:\\Users\\User\\anaconda3\\envs\\Perc\\lib\\site-packages\\matplotlib\\mpl-data\\stylelib\\_classic_test.mplstyle: \n",
      "The mathtext.fallback_to_cm rcparam was deprecated in Matplotlib 3.3 and will be removed two minor releases later.\n",
      "In C:\\Users\\User\\anaconda3\\envs\\Perc\\lib\\site-packages\\matplotlib\\mpl-data\\stylelib\\_classic_test.mplstyle: Support for setting the 'mathtext.fallback_to_cm' rcParam is deprecated since 3.3 and will be removed two minor releases later; use 'mathtext.fallback : 'cm' instead.\n",
      "In C:\\Users\\User\\anaconda3\\envs\\Perc\\lib\\site-packages\\matplotlib\\mpl-data\\stylelib\\_classic_test.mplstyle: \n",
      "The validate_bool_maybe_none function was deprecated in Matplotlib 3.3 and will be removed two minor releases later.\n",
      "In C:\\Users\\User\\anaconda3\\envs\\Perc\\lib\\site-packages\\matplotlib\\mpl-data\\stylelib\\_classic_test.mplstyle: \n",
      "The savefig.jpeg_quality rcparam was deprecated in Matplotlib 3.3 and will be removed two minor releases later.\n",
      "In C:\\Users\\User\\anaconda3\\envs\\Perc\\lib\\site-packages\\matplotlib\\mpl-data\\stylelib\\_classic_test.mplstyle: \n",
      "The keymap.all_axes rcparam was deprecated in Matplotlib 3.3 and will be removed two minor releases later.\n",
      "In C:\\Users\\User\\anaconda3\\envs\\Perc\\lib\\site-packages\\matplotlib\\mpl-data\\stylelib\\_classic_test.mplstyle: \n",
      "The animation.avconv_path rcparam was deprecated in Matplotlib 3.3 and will be removed two minor releases later.\n",
      "In C:\\Users\\User\\anaconda3\\envs\\Perc\\lib\\site-packages\\matplotlib\\mpl-data\\stylelib\\_classic_test.mplstyle: \n",
      "The animation.avconv_args rcparam was deprecated in Matplotlib 3.3 and will be removed two minor releases later.\n"
     ]
    }
   ],
   "source": [
    "import numpy as np\n",
    "import cv2\n",
    "import glob\n",
    "import matplotlib.pyplot as plt"
   ]
  },
  {
   "cell_type": "markdown",
   "id": "interpreted-aging",
   "metadata": {},
   "source": [
    "## Calibrate and Rectify the stereo input"
   ]
  },
  {
   "cell_type": "markdown",
   "id": "eligible-atlanta",
   "metadata": {
    "heading_collapsed": true
   },
   "source": [
    "### Load images and extract object and image points"
   ]
  },
  {
   "cell_type": "code",
   "execution_count": 10,
   "id": "ordered-wrestling",
   "metadata": {
    "hidden": true
   },
   "outputs": [],
   "source": [
    "nb_vertical = 6\n",
    "nb_horizontal = 9\n",
    "\n",
    "# prepare object points, like (0,0,0), (1,0,0), (2,0,0) ....,(6,5,0)\n",
    "objp = np.zeros((nb_horizontal*nb_vertical,3), np.float32)\n",
    "objp[:,:2] = np.mgrid[0:nb_vertical,0:nb_horizontal].T.reshape(-1,2)\n",
    "\n",
    "# Arrays to store object points and image points from all the images.\n",
    "objpoints = [] # 3d point in real world space\n",
    "imgpointsL = [] # 2d points in image plane.\n",
    "imgpointsR = [] # 2d points in image plane.\n",
    "\n",
    "images_l = glob.glob(r'C:\\Users\\User\\Desktop\\courses\\PFAS\\final_project\\Stereo_Calibration\\Stereo_calibration_images/left-*.png')\n",
    "images_r = glob.glob(r'C:\\Users\\User\\Desktop\\courses\\PFAS\\final_project\\Stereo_Calibration\\Stereo_calibration_images/right-*.png')"
   ]
  },
  {
   "cell_type": "code",
   "execution_count": 11,
   "id": "destroyed-indication",
   "metadata": {
    "hidden": true
   },
   "outputs": [
    {
     "name": "stdout",
     "output_type": "stream",
     "text": [
      "# of left images: 50\n",
      "# of left images: 50\n"
     ]
    }
   ],
   "source": [
    "left_count = len(images_l)\n",
    "print('# of left images:', left_count)\n",
    "right_count = len(images_r)\n",
    "print('# of left images:', right_count)"
   ]
  },
  {
   "cell_type": "code",
   "execution_count": 12,
   "id": "unexpected-theater",
   "metadata": {
    "hidden": true
   },
   "outputs": [],
   "source": [
    "criteria = (cv2.TERM_CRITERIA_EPS + cv2.TERM_CRITERIA_MAX_ITER, 30, 0.001)\n",
    "for i in range(left_count):\n",
    "    imgL = cv2.imread(images_l[i])\n",
    "    imgR = cv2.imread(images_r[i])\n",
    "    grayL = cv2.cvtColor(imgL, cv2.COLOR_BGR2GRAY)\n",
    "    grayR = cv2.cvtColor(imgR, cv2.COLOR_BGR2GRAY)\n",
    "\n",
    "    outputL = imgL.copy()\n",
    "    outputR = imgR.copy()\n",
    "\n",
    "    retR, cornersR =  cv2.findChessboardCorners(outputR,(nb_vertical,nb_horizontal),None)\n",
    "    retL, cornersL = cv2.findChessboardCorners(outputL,(nb_vertical,nb_horizontal),None)\n",
    "\n",
    "    if retR and retL:\n",
    "        objpoints.append(objp)\n",
    "        imgpointsL.append(cornersL)\n",
    "        imgpointsR.append(cornersR)\n",
    "        \n",
    "        cv2.cornerSubPix(grayR,cornersR,(11,11),(-1,-1),criteria)\n",
    "        cv2.cornerSubPix(grayL,cornersL,(11,11),(-1,-1),criteria)\n",
    "        cv2.drawChessboardCorners(outputR,(9,6),cornersR,retR)\n",
    "        cv2.drawChessboardCorners(outputL,(9,6),cornersL,retL)\n",
    "        cv2.imshow('cornersR',outputR)\n",
    "        cv2.imshow('cornersL',outputL)\n",
    "        cv2.waitKey(50)\n",
    "        \n",
    "cv2.destroyAllWindows()"
   ]
  },
  {
   "cell_type": "markdown",
   "id": "executed-terrorist",
   "metadata": {},
   "source": [
    "### Calibrate cameras, Rectify &' Undistort the images"
   ]
  },
  {
   "cell_type": "code",
   "execution_count": 13,
   "id": "honey-syntax",
   "metadata": {},
   "outputs": [],
   "source": [
    "# calibrating left and right camera\n",
    "retL, mtxL, distL, rvecsL, tvecsL = cv2.calibrateCamera(objpoints, imgpoints1, grayL.shape[::-1], None, None)\n",
    "retR, mtxR, distR, rvecsR, tvecsR = cv2.calibrateCamera(objpoints, imgpoints2, grayR.shape[::-1], None, None)"
   ]
  },
  {
   "cell_type": "code",
   "execution_count": 15,
   "id": "robust-authority",
   "metadata": {},
   "outputs": [],
   "source": [
    "# get new optimal camera matrix\n",
    "hL,  wL = grayL.shape[:2]\n",
    "newcameramtxL, roiL = cv2.getOptimalNewCameraMatrix(mtxL,distL,(wL,hL),1,(wL,hL))\n",
    "hR,  wR = grayR.shape[:2]\n",
    "newcameramtxR, roiR = cv2.getOptimalNewCameraMatrix(mtxR,distR,(wR,hR),1,(wR,hR))"
   ]
  },
  {
   "cell_type": "code",
   "execution_count": 17,
   "id": "excellent-works",
   "metadata": {},
   "outputs": [],
   "source": [
    "flags = 0\n",
    "flags |= cv2.CALIB_FIX_INTRINSIC\n",
    "criteria_stereo= (cv2.TERM_CRITERIA_EPS + cv2.TERM_CRITERIA_MAX_ITER, 30, 0.001)"
   ]
  },
  {
   "cell_type": "code",
   "execution_count": 18,
   "id": "spiritual-religious",
   "metadata": {},
   "outputs": [],
   "source": [
    "# This step is performed to calculate the transformation between the two cameras and calculate Essential and Fundamenatl matrix\n",
    "ret, newcameramtxL, distL, newcameramtxR, distR, R, T, E, F = \\\n",
    "    cv2.stereoCalibrate(objpoints, \n",
    "                        imgpointsL, imgpointsR, \n",
    "                        newcameramtxL, distL, newcameramtxR, distR, \n",
    "                        grayL.shape,\n",
    "                        criteria=criteria_stereo,\n",
    "                        flags=flags)"
   ]
  },
  {
   "cell_type": "code",
   "execution_count": 19,
   "id": "straight-vinyl",
   "metadata": {},
   "outputs": [],
   "source": [
    "# Once we know the transformation between the two cameras we can perform stereo rectification\n",
    "R1, R2, P1, P2, Q, roi_left, roi_right = \\\n",
    "    cv2.stereoRectify(newcameramtxL, distL, \n",
    "                      newcameramtxR, distR,\n",
    "                      grayL.shape[::-1], \n",
    "                      R, T, \n",
    "                      flags = cv2.CALIB_ZERO_DISPARITY,\n",
    "                      alpha = 1)"
   ]
  },
  {
   "cell_type": "code",
   "execution_count": 22,
   "id": "enabling-questionnaire",
   "metadata": {},
   "outputs": [],
   "source": [
    "# Compute the mapping required to obtain the undistorted rectified stereo image pair\n",
    "xmapL, ymapL = cv2.initUndistortRectifyMap(newcameramtxL, distL, \n",
    "                                           R1, P1, \n",
    "                                           grayL.shape[::-1], \n",
    "                                           cv2.CV_16SC2)\n",
    "xmapR, ymapR = cv2.initUndistortRectifyMap(newcameramtxR, distR, \n",
    "                                           R2, P2, \n",
    "                                           grayR.shape[::-1], \n",
    "                                           cv2.CV_16SC2)"
   ]
  },
  {
   "cell_type": "code",
   "execution_count": 25,
   "id": "binding-simulation",
   "metadata": {},
   "outputs": [],
   "source": [
    "imgL = cv2.imread(r'C:\\Users\\User\\Desktop\\courses\\PFAS\\final_project\\Stereo_Calibration\\Stereo_calibration_images/left-0030.png')\n",
    "imgR = cv2.imread(r'C:\\Users\\User\\Desktop\\courses\\PFAS\\final_project\\Stereo_Calibration\\Stereo_calibration_images/right-0030.png')"
   ]
  },
  {
   "cell_type": "code",
   "execution_count": 26,
   "id": "promotional-trust",
   "metadata": {},
   "outputs": [],
   "source": [
    "rectL = cv2.remap(imgL, \n",
    "                  xmapL, ymapL, \n",
    "                  cv2.INTER_LANCZOS4, \n",
    "                  cv2.BORDER_CONSTANT, \n",
    "                  0)\n",
    "rectR = cv2.remap(imgR, \n",
    "                  xmapR, ymapR, \n",
    "                  cv2.INTER_LANCZOS4, \n",
    "                  cv2.BORDER_CONSTANT, \n",
    "                  0)"
   ]
  },
  {
   "cell_type": "code",
   "execution_count": 27,
   "id": "finnish-classroom",
   "metadata": {},
   "outputs": [
    {
     "data": {
      "text/plain": [
       "Text(0.5, 1.0, 'Right image')"
      ]
     },
     "execution_count": 27,
     "metadata": {},
     "output_type": "execute_result"
    },
    {
     "data": {
      "image/png": "[encoded data removed]",
      "text/plain": [
       "<Figure size 1296x1296 with 2 Axes>"
      ]
     },
     "metadata": {
      "needs_background": "light"
     },
     "output_type": "display_data"
    }
   ],
   "source": [
    "fig, ax = plt.subplots(nrows=1, ncols=2, figsize=(18,18))\n",
    "ax[0].imshow(rectL, cmap='gray')\n",
    "ax[0].set_title('Left image')\n",
    "ax[1].imshow(rectR, cmap='gray')\n",
    "ax[1].set_title('Right image')"
   ]
  },
  {
   "cell_type": "code",
   "execution_count": null,
   "id": "pharmaceutical-grounds",
   "metadata": {},
   "outputs": [],
   "source": []
  },
  {
   "cell_type": "code",
   "execution_count": null,
   "id": "confidential-gregory",
   "metadata": {},
   "outputs": [],
   "source": []
  },
  {
   "cell_type": "code",
   "execution_count": null,
   "id": "cognitive-color",
   "metadata": {},
   "outputs": [],
   "source": []
  },
  {
   "cell_type": "code",
   "execution_count": null,
   "id": "junior-binary",
   "metadata": {},
   "outputs": [],
   "source": []
  },
  {
   "cell_type": "code",
   "execution_count": null,
   "id": "framed-feeling",
   "metadata": {},
   "outputs": [],
   "source": []
  },
  {
   "cell_type": "code",
   "execution_count": null,
   "id": "protective-dragon",
   "metadata": {},
   "outputs": [],
   "source": []
  },
  {
   "cell_type": "code",
   "execution_count": null,
   "id": "reserved-lotus",
   "metadata": {},
   "outputs": [],
   "source": []
  },
  {
   "cell_type": "code",
   "execution_count": null,
   "id": "interesting-vacation",
   "metadata": {},
   "outputs": [],
   "source": []
  },
  {
   "cell_type": "code",
   "execution_count": null,
   "id": "worst-directory",
   "metadata": {},
   "outputs": [],
   "source": []
  },
  {
   "cell_type": "code",
   "execution_count": null,
   "id": "encouraging-outside",
   "metadata": {},
   "outputs": [],
   "source": []
  },
  {
   "cell_type": "code",
   "execution_count": null,
   "id": "yellow-black",
   "metadata": {},
   "outputs": [],
   "source": []
  },
  {
   "cell_type": "code",
   "execution_count": null,
   "id": "frozen-cursor",
   "metadata": {},
   "outputs": [],
   "source": []
  },
  {
   "cell_type": "markdown",
   "id": "interpreted-speaking",
   "metadata": {},
   "source": [
    "## Process the input images to detect objects on the conveyor and track them in 3D, even under occlusions."
   ]
  },
  {
   "cell_type": "markdown",
   "id": "encouraging-boston",
   "metadata": {},
   "source": [
    "## Train a machine learning system that can classify unseen images into the 3 classes (cups, books and boxes) based either on 2D or 3D data."
   ]
  },
  {
   "cell_type": "code",
   "execution_count": null,
   "id": "hidden-forward",
   "metadata": {},
   "outputs": [],
   "source": []
  }
 ],
 "metadata": {
  "kernelspec": {
   "display_name": "Python 3",
   "language": "python",
   "name": "python3"
  },
  "language_info": {
   "codemirror_mode": {
    "name": "ipython",
    "version": 3
   },
   "file_extension": ".py",
   "mimetype": "text/x-python",
   "name": "python",
   "nbconvert_exporter": "python",
   "pygments_lexer": "ipython3",
   "version": "3.6.12"
  },
  "toc": {
   "base_numbering": 1,
   "nav_menu": {},
   "number_sections": true,
   "sideBar": true,
   "skip_h1_title": false,
   "title_cell": "Table of Contents",
   "title_sidebar": "Contents",
   "toc_cell": false,
   "toc_position": {},
   "toc_section_display": true,
   "toc_window_display": false
  },
  "varInspector": {
   "cols": {
    "lenName": 16,
    "lenType": 16,
    "lenVar": 40
   },
   "kernels_config": {
    "python": {
     "delete_cmd_postfix": "",
     "delete_cmd_prefix": "del ",
     "library": "var_list.py",
     "varRefreshCmd": "print(var_dic_list())"
    },
    "r": {
     "delete_cmd_postfix": ") ",
     "delete_cmd_prefix": "rm(",
     "library": "var_list.r",
     "varRefreshCmd": "cat(var_dic_list()) "
    }
   },
   "types_to_exclude": [
    "module",
    "function",
    "builtin_function_or_method",
    "instance",
    "_Feature"
   ],
   "window_display": false
  }
 },
 "nbformat": 4,
 "nbformat_minor": 5
}
